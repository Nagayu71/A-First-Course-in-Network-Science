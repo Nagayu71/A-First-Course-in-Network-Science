{
 "cells": [
  {
   "cell_type": "code",
   "execution_count": null,
   "id": "cdc77043-b388-45c3-978f-c21b8a0ea232",
   "metadata": {},
   "outputs": [],
   "source": [
    "import networkx as nx\n",
    "%matplotlib inline"
   ]
  },
  {
   "cell_type": "markdown",
   "id": "881b5a88-422e-49bb-a4ef-84ad4c212aba",
   "metadata": {},
   "source": [
    "# Chapter 2 Tutorial\n",
    "\n",
    "多くの練習問題の後に `assert` 文を含むブロックがあることに注意されたい。この `assert` 文の前にセットアップコードがある場合がある。これはあなたが正しい道にいるというフィードバックを与えるために設置されている。もし `AssertionError` を受け取ったら、おそらくどこかに間違いがあるということだ。\n",
    "\n",
    "Contents:\n",
    "\n",
    "1. 経路（Paths）\n",
    "2. 連結成分（Connected components）\n",
    "3. 有向路（Directed paths & components）\n",
    "4. Dataset: US air traffic network"
   ]
  },
  {
   "cell_type": "code",
   "execution_count": null,
   "id": "2210c51e-a489-4a31-a02a-396a95fdbf0c",
   "metadata": {},
   "outputs": [],
   "source": []
  }
 ],
 "metadata": {
  "kernelspec": {
   "display_name": "Python 3 (ipykernel)",
   "language": "python",
   "name": "python3"
  },
  "language_info": {
   "codemirror_mode": {
    "name": "ipython",
    "version": 3
   },
   "file_extension": ".py",
   "mimetype": "text/x-python",
   "name": "python",
   "nbconvert_exporter": "python",
   "pygments_lexer": "ipython3",
   "version": "3.9.12"
  }
 },
 "nbformat": 4,
 "nbformat_minor": 5
}
