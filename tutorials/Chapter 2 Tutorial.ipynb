{
 "cells": [
  {
   "cell_type": "code",
   "execution_count": null,
   "id": "cdc77043-b388-45c3-978f-c21b8a0ea232",
   "metadata": {},
   "outputs": [],
   "source": [
    "import networkx as nx\n",
    "%matplotlib inline"
   ]
  },
  {
   "cell_type": "markdown",
   "id": "881b5a88-422e-49bb-a4ef-84ad4c212aba",
   "metadata": {},
   "source": [
    "# Chapter 2 Tutorial\n",
    "\n",
    "多くの練習問題の後に `assert` 文を含むブロックがあることに注意されたい。この `assert` 文の前にセットアップコードがある場合がある。これはあなたが正しい道にいるというフィードバックを与えるために設置されている。もし `AssertionError` を受け取ったら、おそらくどこかに間違いがあるということだ。\n",
    "\n",
    "Contents:\n",
    "\n",
    "1. 経路（Paths）\n",
    "2. 連結成分（Connected components）\n",
    "3. 有向路（Directed paths & components）\n",
    "4. Dataset: US air traffic network"
   ]
  },
  {
   "cell_type": "markdown",
   "id": "ddde559b-3c82-4aea-96a4-e262494bc8c5",
   "metadata": {},
   "source": [
    "## 1. 経路（Path）\n",
    "\n",
    "無向ネットワークという簡単な例から始めよう。"
   ]
  },
  {
   "cell_type": "code",
   "execution_count": null,
   "id": "e7aee8cf-1a0b-4922-8453-f2eea91a1de2",
   "metadata": {},
   "outputs": [],
   "source": [
    "G = nx.Graph()\n",
    "\n",
    "G.add_nodes_from([1,2,3,4])\n",
    "\n",
    "G.add_edges_from([(1,2),(2,3),(1,3),(1,4)])\n",
    "\n",
    "nx.draw(G, with_labels=True)"
   ]
  },
  {
   "cell_type": "markdown",
   "id": "402f47c5-151d-4c90-bb36-bccb2f4080b3",
   "metadata": {},
   "source": [
    "ネットワーク内の経路（*path*）とは、二つのノードをつなぐエッジの集合（エッジに沿ってたどることができる道筋）である。 この単純な例では、ノード3と4を結ぶパスが少なくとも1つ存在することが簡単にわかる。このことは NetworkX で確認できる。"
   ]
  },
  {
   "cell_type": "code",
   "execution_count": null,
   "id": "1880cb7e-c2e3-46ec-9b7e-e833ad1e2f5a",
   "metadata": {},
   "outputs": [],
   "source": [
    "nx.has_path(G, 3, 4)"
   ]
  },
  {
   "cell_type": "markdown",
   "id": "4149d8cf-7249-435e-81fb-17c9d4e2b0cf",
   "metadata": {},
   "source": [
    "二つのノードの間に複数の経路がある場合がある。再びノード3と4を考えたとき、そのような「単純な」経路が二つある。"
   ]
  },
  {
   "cell_type": "code",
   "execution_count": null,
   "id": "f340e13f-cb62-4e53-a50c-abc340446bcb",
   "metadata": {},
   "outputs": [],
   "source": [
    "list(nx.all_simple_paths(G, 3, 4))"
   ]
  },
  {
   "cell_type": "markdown",
   "id": "4661c341-373b-4e56-a1ef-3791f9080c7e",
   "metadata": {},
   "source": [
    "単純な経路（*simple path*）とは、サイクルのない経路である。もしサイクルを許せば、いつでも好きなだけサイクルを回れるので、無限の経路が存在することになる。"
   ]
  },
  {
   "cell_type": "markdown",
   "id": "b3db5590-aca3-49bf-914b-8b04274ebee6",
   "metadata": {},
   "source": [
    "私たちはしばしば、最短経路（*shortest path*）に最も興味を持つ。重みのないネットワークでは、最短経路は最も少ないエッジを持つ経路である。ノード3とノード4の間の2つの単純な経路のうち、一方が他方より短いことがわかる。この最短経路は、NetworkX の関数を使うことで得ることができる。"
   ]
  },
  {
   "cell_type": "code",
   "execution_count": null,
   "id": "74cd3999-2051-43c0-8685-46f2e4e08aac",
   "metadata": {},
   "outputs": [],
   "source": [
    "nx.shortest_path(G, 3, 4)"
   ]
  },
  {
   "cell_type": "markdown",
   "id": "63dd0309-6213-424e-8d87-c6d0235c40e0",
   "metadata": {},
   "source": [
    "経路長（*path length*）にのみ関心がある時は、次の関数が用意されている。"
   ]
  },
  {
   "cell_type": "code",
   "execution_count": null,
   "id": "8d8710de-65b7-41e5-9928-af449b12506f",
   "metadata": {},
   "outputs": [],
   "source": [
    "nx.shortest_path_length(G, 3, 4)"
   ]
  },
  {
   "cell_type": "markdown",
   "id": "4b7ea5a8-e5fd-42b5-a8d2-f8b5692cf8d7",
   "metadata": {},
   "source": [
    "ここで、経路長が経路に含まれるノードの数ではなく、**エッジ**の数として定義されていることに注意しよう。つまり、ノード $u$ と $v$ に対して、\n",
    "\n",
    "    nx.shortest_path_length(G, u, v) == len(nx.shortest_path(G, u, v)) - 1\n",
    "\n"
   ]
  },
  {
   "cell_type": "markdown",
   "id": "22f74cc4-49bf-494a-8e48-e9e09ac9b495",
   "metadata": {},
   "source": [
    "## 2. 連結成分（*connected components*）\n",
    "\n",
    "上の単純なネットワークでは、どのノードのペアに対してもそれらをつなぐ経路が存在する。これは連結グラフ（*connected graph*）の定義である。所与のグラフについて、次のようにしてこの連結性を確認することができる。"
   ]
  },
  {
   "cell_type": "code",
   "execution_count": null,
   "id": "c8033a8c-e177-4e5e-91d1-fb8fa0c464fb",
   "metadata": {},
   "outputs": [],
   "source": [
    "nx.is_connected(G)"
   ]
  },
  {
   "cell_type": "markdown",
   "id": "3fe15d7e-db93-4cc2-a6e2-82cb3f4d3f71",
   "metadata": {},
   "source": [
    "すべてのグラフが連結しているわけではない。"
   ]
  },
  {
   "cell_type": "code",
   "execution_count": null,
   "id": "d25721c7-acae-4a56-a7ac-2edaab00c8f4",
   "metadata": {},
   "outputs": [],
   "source": [
    "G = nx.Graph()\n",
    "\n",
    "G.add_cycle((1,2,3))\n",
    "G.add_edge(4,5)\n",
    "\n",
    "nx.draw(G, with_labels=True)"
   ]
  },
  {
   "cell_type": "code",
   "execution_count": null,
   "id": "c413ff99-4e0a-4b3d-9f7c-741607d04c7d",
   "metadata": {},
   "outputs": [],
   "source": [
    "nx.is_connected(G)"
   ]
  },
  {
   "cell_type": "markdown",
   "id": "851255ea-6799-4b61-9b92-b5301e6c80f1",
   "metadata": {},
   "source": [
    "ノード間に経路が存在しないのに経路を確かめようとすると、NetworkX はエラーを返してくる。"
   ]
  },
  {
   "cell_type": "code",
   "execution_count": null,
   "id": "104785b8-08c6-4477-9d4f-60c364b1edaf",
   "metadata": {},
   "outputs": [],
   "source": [
    "nx.shortest_path(G ,3, 5)"
   ]
  },
  {
   "cell_type": "markdown",
   "id": "0955e7b7-3d39-44a4-a395-ce79b33fa4ae",
   "metadata": {},
   "source": [
    "このグラフにおいて、二つの連結成分を視覚的に確認できるが、コードで検証してみよう。"
   ]
  },
  {
   "cell_type": "code",
   "execution_count": null,
   "id": "9b3c0938-9259-4b6c-895f-c907353db756",
   "metadata": {},
   "outputs": [],
   "source": [
    "nx.number_connected_components(G)"
   ]
  },
  {
   "cell_type": "markdown",
   "id": "1b8af712-ea5e-4a3d-b72b-ec657c5978d1",
   "metadata": {},
   "source": [
    "関数 `nx.connected_components()` はグラフを受け取り、それぞれの連結成分に含まれるノードの集合を要素に持つリストを返す。次のリストに格納された二つの集合が、上で描画したグラフにある二つの連結成分に対応していることを確認しよう。"
   ]
  },
  {
   "cell_type": "code",
   "execution_count": null,
   "id": "c99d1dab-1b24-4386-a6aa-7ffa513150aa",
   "metadata": {},
   "outputs": [],
   "source": [
    "list(nx.connected_components(g))"
   ]
  },
  {
   "cell_type": "markdown",
   "id": "38d32c44-50ad-48a9-be5f-c8fc15c08599",
   "metadata": {},
   "source": [
    "Pythonの集合に馴染みがない方のために説明すると、集合とは重複のない要素のコレクションのことである。ノード名は一意なので、ノード名を収集するのに便利なデータ型だ。リストのような他のコレクションと同様に、 `len` 関数で集合内の要素数を取得できる。"
   ]
  },
  {
   "cell_type": "code",
   "execution_count": null,
   "id": "6068bf37-6b9e-4413-8a79-d58350c4bbfb",
   "metadata": {},
   "outputs": [],
   "source": [
    "components = list(nx.connected_components(G))\n",
    "len(components[0])"
   ]
  },
  {
   "cell_type": "markdown",
   "id": "3476b324-b6ac-4b27-b6d2-1642bb1e8d65",
   "metadata": {},
   "source": [
    "私たちはしばしば、ネットワークのコア（*core*）とも呼ばれる最大連結成分に注目する。最大連結成分を得るには、Pythonの組み込みの `max()` 関数を使用することができる。デフォルトでは、Pythonの `max()` 関数は辞書順（すなわちアルファベット順）でソートするが、これはここでは役に立たない。ここでは、大きさの順にソートされたときの最大連結成分が欲しいので、キー関数に `len` を渡す。"
   ]
  },
  {
   "cell_type": "code",
   "execution_count": null,
   "id": "2e9dbf01-cfde-4064-8fe8-0d7e15facb97",
   "metadata": {},
   "outputs": [],
   "source": [
    "max(nx.connected_components(G), key=len)"
   ]
  },
  {
   "cell_type": "markdown",
   "id": "95d35630-b210-4220-ab3c-13a1437d3025",
   "metadata": {},
   "source": [
    "ノード名のリストを得るだけで十分な場合もあるが、最大連結成分からなる実際のサブグラフが必要な場合もある。これを得るための1つの方法は、ノード名のリストを `G.subgraph()` 関数に渡すことです。"
   ]
  },
  {
   "cell_type": "code",
   "execution_count": null,
   "id": "5f8fbc67-67d0-4fdc-be2b-d37ec48b6525",
   "metadata": {},
   "outputs": [],
   "source": [
    "core_nodes = max(nx.connected_components(G), key=len)\n",
    "core = G.subgraph(core_nodes)\n",
    "\n",
    "nx.draw(core, with_labels=True)"
   ]
  },
  {
   "cell_type": "markdown",
   "id": "7f5003eb-5f73-46d6-88a9-7fbde5e13b05",
   "metadata": {},
   "source": [
    "タブのコード補完機能を使用している人は、`nx.connected_component_subgraphs()`関数にも気が付くはずだ。これもコアサブグラフを得るために使用できるが、最大連結成分にしか興味がない場合は、先に紹介した方法の方が効率的である。"
   ]
  },
  {
   "cell_type": "markdown",
   "id": "84edd4fd-d5cf-4a40-860d-ce555c2ce98e",
   "metadata": {},
   "source": [
    "## 3. 有向路と有向成分（Directed paths & components）\n",
    "\n",
    "これまで見てきた経路と連結成分のアイデアを、有向グラフにも拡張してみよう。"
   ]
  },
  {
   "cell_type": "code",
   "execution_count": null,
   "id": "3af23fe5-f7c5-44db-9732-f8a12779e73a",
   "metadata": {},
   "outputs": [],
   "source": [
    "D = nx.Digraph()\n",
    "D.add_edges_from([\n",
    "    (1,2),\n",
    "    (2,3),\n",
    "    (3,2), (3,4), (3,5),\n",
    "    (4,2), (4,5), (4,6),\n",
    "    (5,6),\n",
    "    (6,4),\n",
    "])\n",
    "nx.draw(D, with_labels=True)"
   ]
  },
  {
   "cell_type": "markdown",
   "id": "a25bdbc6-8379-4b9f-8954-c01a2442a051",
   "metadata": {},
   "source": [
    "### 有向路（directed paths）\n",
    "\n",
    "有向グラフにおいて、任意のノード$u$から任意のノード$v$に向かうエッジは、$v$から$u$へのエッジの存在を意味しない。有向グラフでは、経路はエッジの方向に従わなければならないので、経路についても同じ非対称性がある。このグラフには、1から4への経路はあるが、逆方向の経路はないことを確認せよ。"
   ]
  },
  {
   "cell_type": "code",
   "execution_count": null,
   "id": "91cd90b9-77f0-478f-a421-227a7044f4ed",
   "metadata": {},
   "outputs": [],
   "source": [
    "nx.has_path(D, 1, 4)"
   ]
  },
  {
   "cell_type": "code",
   "execution_count": null,
   "id": "8365c0d8-8df0-4290-99ed-79ff1d35a369",
   "metadata": {},
   "outputs": [],
   "source": [
    "nx.has_path(D, 4, 1)"
   ]
  },
  {
   "cell_type": "markdown",
   "id": "27a94c91-f5c5-4697-a720-7d6cac987f29",
   "metadata": {},
   "source": [
    "経路を扱うNetworkX のもう一つの関数も同様にこの非対称性を考慮している。"
   ]
  },
  {
   "cell_type": "code",
   "execution_count": null,
   "id": "fba07a20-f3f4-46af-9ae9-4e0046c72a16",
   "metadata": {},
   "outputs": [],
   "source": [
    "nx.shortest_path(D, 2, 5)"
   ]
  },
  {
   "cell_type": "code",
   "execution_count": null,
   "id": "7917f022-404f-482a-8036-a93098840f9a",
   "metadata": {},
   "outputs": [],
   "source": [
    "nx.shortest_path(D, 5, 2)"
   ]
  },
  {
   "cell_type": "markdown",
   "id": "2dbf3293-cb48-4884-a2b5-04f0c8f44afd",
   "metadata": {},
   "source": [
    "5から3に向かうエッジはないので5から2に向かう最短経路は、2から5に向かう最短経路を逆方向にただ辿っていくことはできない。ノード6と4を経由する迂回路を通るしかない。"
   ]
  },
  {
   "cell_type": "markdown",
   "id": "6fefa5e4-9fc1-44a6-ad77-aaf2f5f4e382",
   "metadata": {},
   "source": [
    "### 有向成分（directed components）\n",
    "\n",
    "有向ネットワークには、2種類の連結性がある。強連結（*strongly connected*）とは、すべてのノードのペアの間に有向路が存在すること、つまり、どのノードからでもエッジの方向性に従いながら他のノードに到達できることを意味する。一方通行の道路網を走る車を思い浮かべてほしい。車の流れに逆らって運転することはできない。"
   ]
  },
  {
   "cell_type": "code",
   "execution_count": null,
   "id": "fa53ef8c-a490-4ff2-8c6e-76b07618d393",
   "metadata": {},
   "outputs": [],
   "source": [
    "nx.is_strongly_connected(D)"
   ]
  },
  {
   "cell_type": "markdown",
   "id": "27adbe62-3bee-4e9a-9668-2905332b5906",
   "metadata": {},
   "source": [
    "弱連結（*weakly connected*）とは、方向に関係なく、すべてのノードのペアの間に経路が存在することを意味する。一方通行の道路網にいる歩行者を考えてみよう。彼らは歩道を歩くので、交通の方向を気にすることはない。"
   ]
  },
  {
   "cell_type": "code",
   "execution_count": null,
   "id": "e2ef1e28-9608-499e-beb8-349bf6b080d3",
   "metadata": {},
   "outputs": [],
   "source": [
    "nx.is_weakly_connected(D)"
   ]
  },
  {
   "cell_type": "markdown",
   "id": "a3b7f9e3-b9c0-495b-bc49-3554846d33d4",
   "metadata": {},
   "source": [
    "もしネットワークが強連結しているなら、弱連結も満たしていることになる。逆はこの例に見られるように、必ずしも真ではない。\n",
    "\n",
    "無向グラフのための `is_connected()` 関数は、有向グラフが与えられたときエラーを返すようになっている。"
   ]
  },
  {
   "cell_type": "code",
   "execution_count": null,
   "id": "3be2ab5b-8162-4d86-9c45-9d3fa347555f",
   "metadata": {},
   "outputs": [],
   "source": [
    "# これはエラーを返す\n",
    "nx.is_connected(D)"
   ]
  },
  {
   "cell_type": "markdown",
   "id": "13071fc0-3b3c-4c62-837e-5735c2209469",
   "metadata": {},
   "source": [
    "有向グラフの場合、`nx.connected_components()`の代わりに `nx.weakly_connected_components()` と `nx.strongly_connected_components()` を使うことになる。"
   ]
  },
  {
   "cell_type": "code",
   "execution_count": null,
   "id": "e3cfbf92-4f52-4387-8123-83fdf4ab8870",
   "metadata": {},
   "outputs": [],
   "source": [
    "list(nx.weakly_connected_components(D))"
   ]
  },
  {
   "cell_type": "code",
   "execution_count": null,
   "id": "38d838be-7b38-4a62-a720-5f54cfe7f94e",
   "metadata": {},
   "outputs": [],
   "source": [
    "list(nx.strongly_connected_components(D))"
   ]
  },
  {
   "cell_type": "markdown",
   "id": "9c2ee51b-935f-4af6-8fa0-52578fa52169",
   "metadata": {},
   "source": [
    "## 4. データセット：US air traffic network\n",
    "\n",
    "このリポジトリには、いくつかのネットワークデータセットが含まれている。その中には、アメリカの航空路線のネットワークがある。"
   ]
  },
  {
   "cell_type": "code",
   "execution_count": null,
   "id": "5159286c-938b-4ac8-9d05-fd60c01cc254",
   "metadata": {},
   "outputs": [],
   "source": [
    "G = nx.read_graphml('../datasets/openflights/openflights_usa.graphml.gz')"
   ]
  },
  {
   "cell_type": "markdown",
   "id": "1383889a-e682-46a7-8830-1af29f7d1827",
   "metadata": {},
   "source": [
    "このグラフのノードは空港で、[IATAコード](https://en.wikipedia.org/wiki/List_of_airports_by_IATA_code:_A)で表されている。2つのノードは、2つの空港を直接結ぶ定期便がある場合、エッジで結ばれる。一方向のフライトは通常、帰りのフライトがあることを意味するので、このグラフは無向グラフと仮定する。\n",
    "\n",
    "このグラフはエッジ\n",
    "```\n",
    "[('HOM', 'ANC'), ('BGM', 'PHL'), ('BGM', 'IAD'), ...]\n",
    "```\n",
    "を持ち、ANC はアンカレッジ、IAD はワシントン・ダレス etc. を表す。\n",
    "\n",
    "これらのノードはまた、自身に関連する属性（*attributes*）を持っており、空港についての追加情報が保存されている。"
   ]
  },
  {
   "cell_type": "code",
   "execution_count": null,
   "id": "d6fbf49d-6ba3-4557-bf96-0fe0ec608f3e",
   "metadata": {},
   "outputs": [],
   "source": [
    "G.nodes['IND']"
   ]
  },
  {
   "cell_type": "markdown",
   "id": "359deb83-3617-4180-8a34-667beee4d456",
   "metadata": {},
   "source": [
    "ノードの属性は辞書形式で保存されており、次のようにして個々の値にアクセスできる。"
   ]
  },
  {
   "cell_type": "code",
   "execution_count": null,
   "id": "e1ec234f-0744-4b9e-8df5-5fb619d65a12",
   "metadata": {},
   "outputs": [],
   "source": [
    "G.nodes['IND']['name']"
   ]
  },
  {
   "cell_type": "markdown",
   "id": "aea96833-aeba-4494-944c-a1e7b5613fb6",
   "metadata": {},
   "source": [
    "## 練習問題1\n",
    "\n",
    "インディアナポリス（Indianapolis）とアラスカ州フェアバンクス(FAI)の間に直行便はあるか？直行便とは、途中で降機しない便のことである。"
   ]
  },
  {
   "cell_type": "code",
   "execution_count": null,
   "id": "9bae65b6-c400-4451-96df-451620d8d487",
   "metadata": {},
   "outputs": [],
   "source": [
    "nx.shortest_path(G, 'IND', 'FAI')"
   ]
  },
  {
   "cell_type": "markdown",
   "id": "c3b0f51b-9fef-4a54-9fb8-24ec98dcba5a",
   "metadata": {},
   "source": [
    "## 練習問題2\n",
    "\n",
    "今仮に、インディアナポリス（Indianapolis）からアラスカ州フェアバンクス(FAI)に飛びたいとする。フライトの数を最小にする旅行プランはどんなものになるだろうか？"
   ]
  },
  {
   "cell_type": "markdown",
   "id": "6c6e355d-9858-48b5-bb10-e8d2e54a02eb",
   "metadata": {},
   "source": [
    "## 練習問題3\n",
    "\n",
    "米国内のどの空港からでも、場合によっては乗り継ぎ便を利用して、米国内の他のどの空港へも移動することは可能だろうか？つまり、航空路線ネットワークには、考えられるすべての空港のペアを結ぶ経路が存在するだろうか？"
   ]
  },
  {
   "cell_type": "markdown",
   "id": "c33d8577-8697-42c2-a328-9a34fe337a0e",
   "metadata": {},
   "source": [
    "## 解答例"
   ]
  },
  {
   "cell_type": "markdown",
   "id": "92ed205f-db25-4e1c-8f15-b9c0d8e1788f",
   "metadata": {},
   "source": [
    "### 練習問題1"
   ]
  },
  {
   "cell_type": "code",
   "execution_count": null,
   "id": "14331809-60c9-47df-9918-102bd8374dd2",
   "metadata": {},
   "outputs": [],
   "source": [
    "nx.shortest_path(G, 'IND', 'FAI')"
   ]
  },
  {
   "cell_type": "markdown",
   "id": "1ced1867-015f-412d-b0e5-6b08e27f61d5",
   "metadata": {},
   "source": [
    "INDからFAIに移動する最短経路が `['IND', 'FAI']` ではないので、2点を結ぶ直行便はない。"
   ]
  },
  {
   "cell_type": "markdown",
   "id": "f92860a9-9a05-45b1-acf1-6f21b6413eb2",
   "metadata": {},
   "source": [
    "### 練習問題2"
   ]
  },
  {
   "cell_type": "markdown",
   "id": "56d8625d-66e2-4537-bfe2-643181c32e46",
   "metadata": {},
   "source": [
    "INDとFAIを結ぶ最短経路が `['IND', 'BOS', 'SEA', 'FAI']` なので、フライト数を最小にする旅程は、`IND -> BOS -> SEA -> FAI` になる。"
   ]
  },
  {
   "cell_type": "markdown",
   "id": "a86d3421-c818-45bb-99c0-aeaa197088a6",
   "metadata": {},
   "source": [
    "### 練習問題3"
   ]
  },
  {
   "cell_type": "code",
   "execution_count": null,
   "id": "3086437f-d095-4b69-b563-dd55a1b7cf01",
   "metadata": {},
   "outputs": [],
   "source": [
    "nx.is_connected(G)"
   ]
  },
  {
   "cell_type": "markdown",
   "id": "52d5c1a4-7031-4f71-99c0-35d3d6ce4548",
   "metadata": {},
   "source": [
    "よって、どの空港からでも任意の空港に到達できるとはいえない。このネットワークは以下のように、3つの連結成分からなっている。"
   ]
  },
  {
   "cell_type": "code",
   "execution_count": null,
   "id": "51dd7fef-5ec5-4461-bcfa-82ddc36c7756",
   "metadata": {},
   "outputs": [],
   "source": [
    "len(list(nx.connected_components(G)))"
   ]
  },
  {
   "cell_type": "code",
   "execution_count": null,
   "id": "e11c3af2-7c7e-4044-820e-459696a278f0",
   "metadata": {},
   "outputs": [],
   "source": [
    "list(nx.connected_components(G))"
   ]
  }
 ],
 "metadata": {
  "kernelspec": {
   "display_name": "Python 3 (ipykernel)",
   "language": "python",
   "name": "python3"
  },
  "language_info": {
   "codemirror_mode": {
    "name": "ipython",
    "version": 3
   },
   "file_extension": ".py",
   "mimetype": "text/x-python",
   "name": "python",
   "nbconvert_exporter": "python",
   "pygments_lexer": "ipython3",
   "version": "3.9.12"
  }
 },
 "nbformat": 4,
 "nbformat_minor": 5
}
