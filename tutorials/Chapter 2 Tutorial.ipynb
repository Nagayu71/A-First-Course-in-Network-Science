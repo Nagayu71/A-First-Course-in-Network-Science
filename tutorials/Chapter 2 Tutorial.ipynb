{
 "cells": [
  {
   "cell_type": "code",
   "execution_count": null,
   "id": "cdc77043-b388-45c3-978f-c21b8a0ea232",
   "metadata": {},
   "outputs": [],
   "source": [
    "import networkx as nx\n",
    "%matplotlib inline"
   ]
  },
  {
   "cell_type": "markdown",
   "id": "881b5a88-422e-49bb-a4ef-84ad4c212aba",
   "metadata": {},
   "source": [
    "# Chapter 2 Tutorial\n",
    "\n",
    "多くの練習問題の後に `assert` 文を含むブロックがあることに注意されたい。この `assert` 文の前にセットアップコードがある場合がある。これはあなたが正しい道にいるというフィードバックを与えるために設置されている。もし `AssertionError` を受け取ったら、おそらくどこかに間違いがあるということだ。\n",
    "\n",
    "Contents:\n",
    "\n",
    "1. 経路（Paths）\n",
    "2. 連結成分（Connected components）\n",
    "3. 有向路（Directed paths & components）\n",
    "4. Dataset: US air traffic network"
   ]
  },
  {
   "cell_type": "markdown",
   "id": "ddde559b-3c82-4aea-96a4-e262494bc8c5",
   "metadata": {},
   "source": [
    "## 1. 経路\n",
    "\n",
    "無向ネットワークという簡単な例から始めよう。"
   ]
  },
  {
   "cell_type": "code",
   "execution_count": null,
   "id": "e7aee8cf-1a0b-4922-8453-f2eea91a1de2",
   "metadata": {},
   "outputs": [],
   "source": [
    "G = nx.Graph()\n",
    "\n",
    "G.add_nodes_from([1,2,3,4])\n",
    "\n",
    "G.add_edges_from([(1,2),(2,3),(1,3),(1,4)])\n",
    "\n",
    "nx.draw(G, with_labels=True)"
   ]
  },
  {
   "cell_type": "markdown",
   "id": "402f47c5-151d-4c90-bb36-bccb2f4080b3",
   "metadata": {},
   "source": [
    "ネットワーク内の経路（*path*）とは、二つのノードをつなぐエッジの集合（エッジに沿ってたどることができる道筋）である。 この単純な例では、ノード3と4を結ぶパスが少なくとも1つ存在することが簡単にわかる。このことは NetworkX で確認できる。"
   ]
  },
  {
   "cell_type": "code",
   "execution_count": null,
   "id": "1880cb7e-c2e3-46ec-9b7e-e833ad1e2f5a",
   "metadata": {},
   "outputs": [],
   "source": [
    "nx.has_path(G, 3, 4)"
   ]
  },
  {
   "cell_type": "markdown",
   "id": "4149d8cf-7249-435e-81fb-17c9d4e2b0cf",
   "metadata": {},
   "source": [
    "二つのノードの間に複数の経路がある場合がある。再びノード3と4を考えたとき、そのような「単純な」経路が二つある。"
   ]
  },
  {
   "cell_type": "code",
   "execution_count": null,
   "id": "f340e13f-cb62-4e53-a50c-abc340446bcb",
   "metadata": {},
   "outputs": [],
   "source": [
    "list(nx.all_simple_paths(G, 3, 4))"
   ]
  },
  {
   "cell_type": "markdown",
   "id": "4661c341-373b-4e56-a1ef-3791f9080c7e",
   "metadata": {},
   "source": [
    "単純な経路（*simple path*）とは、サイクルのない経路である。もしサイクルを許せば、いつでも好きなだけサイクルを回れるので、無限の経路が存在することになる。"
   ]
  },
  {
   "cell_type": "markdown",
   "id": "b3db5590-aca3-49bf-914b-8b04274ebee6",
   "metadata": {},
   "source": [
    "私たちはしばしば、最短経路（*shortest path*）に最も興味を持つ。重みのないネットワークでは、最短経路は最も少ないエッジを持つ経路である。ノード3とノード4の間の2つの単純な経路のうち、一方が他方より短いことがわかる。この最短経路は、NetworkX の関数を使うことで得ることができる。"
   ]
  },
  {
   "cell_type": "code",
   "execution_count": null,
   "id": "74cd3999-2051-43c0-8685-46f2e4e08aac",
   "metadata": {},
   "outputs": [],
   "source": [
    "nx.shortest_path(G, 3, 4)"
   ]
  },
  {
   "cell_type": "markdown",
   "id": "63dd0309-6213-424e-8d87-c6d0235c40e0",
   "metadata": {},
   "source": [
    "経路長（*path length*）にのみ関心がある時は、次の関数が用意されている。"
   ]
  },
  {
   "cell_type": "code",
   "execution_count": null,
   "id": "8d8710de-65b7-41e5-9928-af449b12506f",
   "metadata": {},
   "outputs": [],
   "source": [
    "nx.shortest_path_length(G, 3, 4)"
   ]
  },
  {
   "cell_type": "markdown",
   "id": "4b7ea5a8-e5fd-42b5-a8d2-f8b5692cf8d7",
   "metadata": {},
   "source": [
    "ここで、経路長が経路に含まれるノードの数ではなく、**エッジ**の数として定義されていることに注意しよう。つまり、ノード $u$ と $v$ に対して、\n",
    "\n",
    "    nx.shortest_path_length(G, u, v) == len(nx.shortest_path(G, u, v)) - 1\n",
    "\n"
   ]
  },
  {
   "cell_type": "markdown",
   "id": "22f74cc4-49bf-494a-8e48-e9e09ac9b495",
   "metadata": {},
   "source": [
    "## 2. 連結成分（*connected components*）\n",
    "\n",
    "上の単純なネットワークでは、どのノードのペアに対してもそれらをつなぐ経路が存在する。これは連結グラフ（*connected graph*）の定義である。所与のグラフについて、次のようにしてこの連結性を確認することができる。"
   ]
  },
  {
   "cell_type": "code",
   "execution_count": null,
   "id": "c8033a8c-e177-4e5e-91d1-fb8fa0c464fb",
   "metadata": {},
   "outputs": [],
   "source": [
    "nx.is_connected(G)"
   ]
  },
  {
   "cell_type": "markdown",
   "id": "3fe15d7e-db93-4cc2-a6e2-82cb3f4d3f71",
   "metadata": {},
   "source": [
    "すべてのグラフが連結しているわけではない。"
   ]
  },
  {
   "cell_type": "code",
   "execution_count": null,
   "id": "d25721c7-acae-4a56-a7ac-2edaab00c8f4",
   "metadata": {},
   "outputs": [],
   "source": [
    "G = nx.Graph()\n",
    "\n",
    "G.add_cycle((1,2,3))\n",
    "G.add_edge(4,5)\n",
    "\n",
    "nx.draw(G, with_labels=True)"
   ]
  },
  {
   "cell_type": "code",
   "execution_count": null,
   "id": "c413ff99-4e0a-4b3d-9f7c-741607d04c7d",
   "metadata": {},
   "outputs": [],
   "source": [
    "nx.is_connected(G)"
   ]
  },
  {
   "cell_type": "markdown",
   "id": "851255ea-6799-4b61-9b92-b5301e6c80f1",
   "metadata": {},
   "source": [
    "ノード間に経路が存在しないのに経路を確かめようとすると、NetworkX はエラーを返してくる。"
   ]
  },
  {
   "cell_type": "code",
   "execution_count": null,
   "id": "104785b8-08c6-4477-9d4f-60c364b1edaf",
   "metadata": {},
   "outputs": [],
   "source": [
    "nx.shortest_path(G ,3, 5)"
   ]
  },
  {
   "cell_type": "markdown",
   "id": "0955e7b7-3d39-44a4-a395-ce79b33fa4ae",
   "metadata": {},
   "source": [
    "このグラフにおいて、二つの連結成分を視覚的に確認できるが、コードで検証してみよう。"
   ]
  },
  {
   "cell_type": "code",
   "execution_count": null,
   "id": "9b3c0938-9259-4b6c-895f-c907353db756",
   "metadata": {},
   "outputs": [],
   "source": [
    "nx.number_connected_components(G)"
   ]
  },
  {
   "cell_type": "markdown",
   "id": "1b8af712-ea5e-4a3d-b72b-ec657c5978d1",
   "metadata": {},
   "source": [
    "関数 `nx.connected_components()` はグラフを受け取り、それぞれの連結成分に含まれるノードの集合を要素に持つリストを返す。次のリストに格納された二つの集合が、上で描画したグラフにある二つの連結成分に対応していることを確認しよう。"
   ]
  },
  {
   "cell_type": "code",
   "execution_count": null,
   "id": "c99d1dab-1b24-4386-a6aa-7ffa513150aa",
   "metadata": {},
   "outputs": [],
   "source": [
    "list(nx.connected_components(g))"
   ]
  },
  {
   "cell_type": "markdown",
   "id": "38d32c44-50ad-48a9-be5f-c8fc15c08599",
   "metadata": {},
   "source": [
    "Pythonの集合に馴染みがない方のために説明すると、集合とは重複のない要素のコレクションのことである。ノード名は一意なので、ノード名を収集するのに便利なデータ型だ。リストのような他のコレクションと同様に、 `len` 関数で集合内の要素数を取得できる。"
   ]
  },
  {
   "cell_type": "code",
   "execution_count": null,
   "id": "6068bf37-6b9e-4413-8a79-d58350c4bbfb",
   "metadata": {},
   "outputs": [],
   "source": [
    "components = list(nx.connected_components(G))\n",
    "len(components[0])"
   ]
  },
  {
   "cell_type": "markdown",
   "id": "3476b324-b6ac-4b27-b6d2-1642bb1e8d65",
   "metadata": {},
   "source": [
    "私たちはしばしば、ネットワークのコア（*core*）とも呼ばれる最大連結成分に注目する。最大連結成分を得るには、Pythonの組み込みの `max()` 関数を使用することができる。デフォルトでは、Pythonの `max()` 関数は辞書順（すなわちアルファベット順）でソートするが、これはここでは役に立たない。ここでは、大きさの順にソートされたときの最大連結成分が欲しいので、キー関数に `len` を渡す。"
   ]
  },
  {
   "cell_type": "code",
   "execution_count": null,
   "id": "2e9dbf01-cfde-4064-8fe8-0d7e15facb97",
   "metadata": {},
   "outputs": [],
   "source": [
    "max(nx.connected_components(G), key=len)"
   ]
  },
  {
   "cell_type": "markdown",
   "id": "95d35630-b210-4220-ab3c-13a1437d3025",
   "metadata": {},
   "source": [
    "ノード名のリストを得るだけで十分な場合もあるが、最大連結成分からなる実際のサブグラフが必要な場合もある。これを得るための1つの方法は、ノード名のリストを `G.subgraph()` 関数に渡すことです。"
   ]
  },
  {
   "cell_type": "code",
   "execution_count": null,
   "id": "5f8fbc67-67d0-4fdc-be2b-d37ec48b6525",
   "metadata": {},
   "outputs": [],
   "source": [
    "core_nodes = max(nx.connected_components(G), key=len)\n",
    "core = G.subgraph(core_nodes)\n",
    "\n",
    "nx.draw(core, with_labels=True)"
   ]
  },
  {
   "cell_type": "markdown",
   "id": "7f5003eb-5f73-46d6-88a9-7fbde5e13b05",
   "metadata": {},
   "source": [
    "タブのコード補完機能を使用している人は、`nx.connected_component_subgraphs()`関数にも気が付くはずだ。これもコアサブグラフを得るために使用できるが、最大連結成分にしか興味がない場合は、先に紹介した方法の方が効率的である。"
   ]
  },
  {
   "cell_type": "code",
   "execution_count": null,
   "id": "f27d6367-a15e-42d1-8bc1-602f88efd1e0",
   "metadata": {},
   "outputs": [],
   "source": []
  }
 ],
 "metadata": {
  "kernelspec": {
   "display_name": "Python 3 (ipykernel)",
   "language": "python",
   "name": "python3"
  },
  "language_info": {
   "codemirror_mode": {
    "name": "ipython",
    "version": 3
   },
   "file_extension": ".py",
   "mimetype": "text/x-python",
   "name": "python",
   "nbconvert_exporter": "python",
   "pygments_lexer": "ipython3",
   "version": "3.9.12"
  }
 },
 "nbformat": 4,
 "nbformat_minor": 5
}
