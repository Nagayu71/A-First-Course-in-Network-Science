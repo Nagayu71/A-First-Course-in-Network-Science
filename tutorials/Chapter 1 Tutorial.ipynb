{
 "cells": [
  {
   "cell_type": "markdown",
   "id": "39476d6f-a03e-4162-be18-bc8c1a0a05e0",
   "metadata": {
    "tags": []
   },
   "source": [
    "# Chapter 1 Tutorial\n",
    "\n",
    "NetworkXを使うとエッジに重みの付いた、あるいは重みのない有向/無向グラフを構築し、描画することができる。グラフを分析するたくさんの機能が利用可能だ。このチュートリアルでは、いくつかの基礎的な解析例を学び、演習していく。\n",
    "\n",
    "ここで、多くの練習問題の後に `assert` 文を含むブロックがあることに注意されたい。この `assert` 文の前にセットアップコードがある場合がある。これはあなたが正しい道にいるというフィードバックを与えるために設置されている。もし `AssertionError` を受け取ったら、おそらくどこかに間違いがあるということだ。\n",
    "\n",
    "[このチュートリアルで使用したnetworkxの公式ドキュメント（v2.2）](https://networkx.github.io/documentation/networkx-2.2/)\n",
    "\n",
    "[このチュートリアルで使用したnetworkxの公式チュートリアル（v2.2）](https://networkx.github.io/documentation/networkx-2.2/tutorial.html)"
   ]
  },
  {
   "cell_type": "markdown",
   "id": "fde13a75-97ea-4464-86ed-ce05e2e357e0",
   "metadata": {},
   "source": [
    "## `import` について\n",
    "\n",
    "`import` はコードの一番上に書くと、Python に外部モジュールを読み込むように指示してくれる。ここでは、NetworkXを読み込みたいが、今後繰り返し入力することになるので、`as`によって短いエイリアス `nx` として読み込む。\n",
    "\n",
    "`%`で始まる行はPythonのコードではなく、Jupyter notebookのための \"マジック コマンド\"である。`%matplotlib inline` マジックは Jupyter Notebook にインラインで、つまりノートブックの中にグラフィックを描画するように指示する。このマジックはimport文のすぐ後に使用する必要がある。"
   ]
  },
  {
   "cell_type": "code",
   "execution_count": 1,
   "id": "74cb74d0-bc5c-4b07-acee-2b53a1e03fc6",
   "metadata": {},
   "outputs": [],
   "source": [
    "import networkx as nx\n",
    "%matplotlib inline"
   ]
  },
  {
   "cell_type": "markdown",
   "id": "e7bae3ff-d79d-4929-8ca4-f3c89aeda634",
   "metadata": {},
   "source": [
    "インストールされたNetworkXのバージョンを確認しよう。バージョン２はv1と互換性がない。よって、自分たちが有効期限が切れたパッケージを使っていないか確認する必要がある。"
   ]
  },
  {
   "cell_type": "code",
   "execution_count": 2,
   "id": "5118580d-fd8b-40bd-a393-a31fb8b127bd",
   "metadata": {},
   "outputs": [
    {
     "data": {
      "text/plain": [
       "'2.7.1'"
      ]
     },
     "execution_count": 2,
     "metadata": {},
     "output_type": "execute_result"
    }
   ],
   "source": [
    "nx.__version__"
   ]
  },
  {
   "cell_type": "markdown",
   "id": "cbd1de62-4d90-4d68-a284-959de9be7565",
   "metadata": {},
   "source": [
    "## 無向グラフの作成と描画"
   ]
  },
  {
   "cell_type": "code",
   "execution_count": 3,
   "id": "fa6d405d-3cef-4c4c-9cd3-8bf8111a0c7f",
   "metadata": {},
   "outputs": [
    {
     "data": {
      "image/png": "[encoded data removed]",
      "text/plain": [
       "<Figure size 432x288 with 1 Axes>"
      ]
     },
     "metadata": {},
     "output_type": "display_data"
    }
   ],
   "source": [
    "# 「単純な」グラフは無向グラフ\n",
    "G = nx.Graph()\n",
    "\n",
    "# 個々のノードに名前を付ける。ここでは文字列を指定。\n",
    "G.add_node('a')\n",
    "\n",
    "# add_nodes_fromメソッドはシークエンスからノードを追加する。ここではリストを指定。\n",
    "nodes_to_add = ['b', 'c', 'd']\n",
    "G.add_nodes_from(nodes_to_add)\n",
    "\n",
    "# 'a'から'b'へのエッジを追加\n",
    "# ここでは無向グラフを考えているため、順番は関係ない\n",
    "G.add_edge('a', 'b')\n",
    "\n",
    "# add_nodes_from同様に、エッジもシークエンスから追加できる\n",
    "#エッジはタプルで指定する\n",
    "edges_to_add = [('a', 'c'), ('b', 'c'), ('c', 'd')]\n",
    "G.add_edges_from(edges_to_add)\n",
    "\n",
    "#グラフを描画\n",
    "nx.draw(G, with_labels=True)"
   ]
  },
  {
   "cell_type": "markdown",
   "id": "5e6cfdec-820a-41ce-ba2b-05794e765436",
   "metadata": {},
   "source": [
    "グラフの見た目を変えるために、描画関数にはオプションとしてたくさんの引数が用意されている。"
   ]
  },
  {
   "cell_type": "code",
   "execution_count": 4,
   "id": "0a06753a-fccc-4fa1-a1de-1d2e27cf0638",
   "metadata": {},
   "outputs": [
    {
     "data": {
      "image/png": "[encoded data removed]",
      "text/plain": [
       "<Figure size 432x288 with 1 Axes>"
      ]
     },
     "metadata": {},
     "output_type": "display_data"
    }
   ],
   "source": [
    "nx.draw(G,\n",
    "        with_labels=True,\n",
    "        node_color='blue',\n",
    "        node_size=1600,\n",
    "        font_color='white',\n",
    "        font_size=16,\n",
    "        )"
   ]
  },
  {
   "cell_type": "markdown",
   "id": "5df47b36-de6b-4134-8d34-295b4ca256b1",
   "metadata": {},
   "source": [
    "## 命名における慣習について\n",
    "\n",
    "通常、Pythonでは変数の名前は `snake_case` で、つまりアンダースコアで単語を区切って小文字で命名する。クラス名は慣例的に `CamelCase` で、つまり各単語の最初の文字を大文字にして命名する。\n",
    "\n",
    "明らかにNetworkXはこの慣習に従っておらず、しばしばグラフの名前に大文字を1つだけ使う。これは離散数学の世界から引き継がれた慣習の一例である。オンラインで見られるドキュメントのほとんどはこの規則を使っているので、私たちもそれに従う。"
   ]
  },
  {
   "cell_type": "markdown",
   "id": "cc69008e-d65c-4606-a230-f661a4d3ee61",
   "metadata": {},
   "source": [
    "## グラフメソッド\n",
    "\n",
    "グラフオブジェクトは様々なプロパティとメソッドを持っており、それを使えばグラフ全体についてのデータを取得できる。"
   ]
  },
  {
   "cell_type": "code",
   "execution_count": 5,
   "id": "e1f77038-733e-4878-8962-9a21f204a74a",
   "metadata": {},
   "outputs": [
    {
     "data": {
      "text/plain": [
       "NodeView(('a', 'b', 'c', 'd'))"
      ]
     },
     "execution_count": 5,
     "metadata": {},
     "output_type": "execute_result"
    }
   ],
   "source": [
    "# すべてのノードを列挙する\n",
    "G.nodes()"
   ]
  },
  {
   "cell_type": "code",
   "execution_count": 6,
   "id": "6e2f7897-ee28-4d9e-916f-79015cd30943",
   "metadata": {},
   "outputs": [
    {
     "data": {
      "text/plain": [
       "EdgeView([('a', 'b'), ('a', 'c'), ('b', 'c'), ('c', 'd')])"
      ]
     },
     "execution_count": 6,
     "metadata": {},
     "output_type": "execute_result"
    }
   ],
   "source": [
    "#すべてのエッジを列挙する\n",
    "G.edges()"
   ]
  },
  {
   "cell_type": "markdown",
   "id": "e5cccb3a-7cc7-4849-b18f-aa2d03a379d7",
   "metadata": {},
   "source": [
    "`NodeView` オブジェクトと `EdgeView` オブジェクトはイテレータなので、`for` ループで繰り返し処理ができる。"
   ]
  },
  {
   "cell_type": "code",
   "execution_count": 7,
   "id": "46870154-ab0c-46f4-a9f5-ddf790730e44",
   "metadata": {},
   "outputs": [
    {
     "name": "stdout",
     "output_type": "stream",
     "text": [
      "a\n",
      "b\n",
      "c\n",
      "d\n"
     ]
    }
   ],
   "source": [
    "for node in G.nodes:\n",
    "    print(node)"
   ]
  },
  {
   "cell_type": "code",
   "execution_count": 8,
   "id": "7cd09cd4-63a5-4aed-88ec-1ec9b8366a80",
   "metadata": {},
   "outputs": [
    {
     "name": "stdout",
     "output_type": "stream",
     "text": [
      "('a', 'b')\n",
      "('a', 'c')\n",
      "('b', 'c')\n",
      "('c', 'd')\n"
     ]
    }
   ],
   "source": [
    "for edge in G.edges:\n",
    "    print(edge)"
   ]
  },
  {
   "cell_type": "markdown",
   "id": "9632105b-bf07-4be6-a0fd-2f83025b5e32",
   "metadata": {},
   "source": [
    "エッジがタプルとして与えられたことに注意されたい。私たちは上のコードセルで同じように入力した。\n",
    "\n",
    "`number_of_` メソッドでグラフが持つノードとエッジの数を取得できる。"
   ]
  },
  {
   "cell_type": "code",
   "execution_count": 9,
   "id": "57d70909-07b1-4687-922c-547664e3c888",
   "metadata": {},
   "outputs": [
    {
     "data": {
      "text/plain": [
       "4"
      ]
     },
     "execution_count": 9,
     "metadata": {},
     "output_type": "execute_result"
    }
   ],
   "source": [
    "G.number_of_nodes()"
   ]
  },
  {
   "cell_type": "code",
   "execution_count": 10,
   "id": "db8b2e5f-453c-49eb-be17-c49cb64e72c7",
   "metadata": {},
   "outputs": [
    {
     "data": {
      "text/plain": [
       "4"
      ]
     },
     "execution_count": 10,
     "metadata": {},
     "output_type": "execute_result"
    }
   ],
   "source": [
    "G.number_of_edges()"
   ]
  },
  {
   "cell_type": "markdown",
   "id": "0b5c1214-3c7a-4c6a-8c42-8d80d102f741",
   "metadata": {},
   "source": [
    "グラフメソッドの中にはエッジやノードを引数に取るものもある。それらは引数に与えられたエッジやノード自体のプロパティを返すメソッドだ。たとえば、`.neighbors()` メソッドは引数に指定したノードの隣接ノードを返す。"
   ]
  },
  {
   "cell_type": "code",
   "execution_count": 11,
   "id": "3dbacb95-f295-42ab-ac7d-bca2c1a0762d",
   "metadata": {},
   "outputs": [
    {
     "data": {
      "text/plain": [
       "<dict_keyiterator at 0x1b1f7a3f9a0>"
      ]
     },
     "execution_count": 11,
     "metadata": {},
     "output_type": "execute_result"
    }
   ],
   "source": [
    "# ノード'b'の隣接ノードを列挙する\n",
    "G.neighbors('b')"
   ]
  },
  {
   "cell_type": "markdown",
   "id": "101591b9-c5b8-4c0c-b712-9fe811c64359",
   "metadata": {},
   "source": [
    "networkxの仕様上、多くのグラフメソッドはリストの代わりにイテレータを返す。これは次のように繰り返し処理を行えて便利だ。"
   ]
  },
  {
   "cell_type": "code",
   "execution_count": 12,
   "id": "fee33cd3-6a3c-4e8d-ad46-03fdc9cf109a",
   "metadata": {},
   "outputs": [
    {
     "name": "stdout",
     "output_type": "stream",
     "text": [
      "a\n",
      "c\n"
     ]
    }
   ],
   "source": [
    "for neighbor in G.neighbors('b'):\n",
    "    print(neighbor)"
   ]
  },
  {
   "cell_type": "markdown",
   "id": "d185d039-4121-4686-b03a-831bb14bb60c",
   "metadata": {},
   "source": [
    "もしイテレータをリストに変換したければ、`list` コンストラクタを使えば良い。"
   ]
  },
  {
   "cell_type": "code",
   "execution_count": 13,
   "id": "f577ddb6-fc1b-4413-96f2-c82e0f0cc51c",
   "metadata": {},
   "outputs": [
    {
     "data": {
      "text/plain": [
       "['a', 'c']"
      ]
     },
     "execution_count": 13,
     "metadata": {},
     "output_type": "execute_result"
    }
   ],
   "source": [
    "list(G.neighbors('b'))"
   ]
  },
  {
   "cell_type": "markdown",
   "id": "eec1bffa-19e4-4bd4-8279-da9be5d95f5f",
   "metadata": {},
   "source": [
    "## NetworkX の関数 vs. グラフメソッド\n",
    "\n",
    "これまでのデータはグラフ**メソッド**を介して使用できた。つまり、グラフというオブジェクトにメソッドを作用させて欲しいデータを取得してきた。\n",
    "\n",
    "    G.<メソッド名>(<引数>)\n",
    "    \n",
    "NetworkX の最もよく使われる関数のいくつかはメソッドとして提供されているが、それ以外の多くの関数はモジュール関数であり、次のようにして呼び出される。\n",
    "\n",
    "    nx.<関数名>(G, <引数>)\n",
    "\n",
    "つまり、グラフGが最初の、そしておそらく唯一の引数として与えられる。以下に、グラフGに関する情報を返す NetworkX モジュールの関数の例をいくつか示す。"
   ]
  },
  {
   "cell_type": "code",
   "execution_count": 14,
   "id": "629d158f-6737-4f8f-8a59-d7afe7ccaead",
   "metadata": {},
   "outputs": [
    {
     "data": {
      "text/plain": [
       "False"
      ]
     },
     "execution_count": 14,
     "metadata": {},
     "output_type": "execute_result"
    }
   ],
   "source": [
    "# グラフGが木構造かどうか\n",
    "nx.is_tree(G)"
   ]
  },
  {
   "cell_type": "code",
   "execution_count": 15,
   "id": "14d9fcf7-e150-488c-804c-5f372f29b422",
   "metadata": {},
   "outputs": [
    {
     "data": {
      "text/plain": [
       "True"
      ]
     },
     "execution_count": 15,
     "metadata": {},
     "output_type": "execute_result"
    }
   ],
   "source": [
    "# グラフGが連結しているか\n",
    "nx.is_connected(G)"
   ]
  },
  {
   "cell_type": "markdown",
   "id": "634c8315-0e2b-4950-9ce1-2adfab8231a5",
   "metadata": {},
   "source": [
    "## ノードとエッジの存在を確認\n",
    "\n",
    "`has_node()` メソッドを使ってグラフに特定のノードがあるかを確認することができる。"
   ]
  },
  {
   "cell_type": "code",
   "execution_count": 16,
   "id": "ab88dcff-4e52-4ac9-9443-06d24b27986e",
   "metadata": {},
   "outputs": [
    {
     "data": {
      "text/plain": [
       "True"
      ]
     },
     "execution_count": 16,
     "metadata": {},
     "output_type": "execute_result"
    }
   ],
   "source": [
    "G.has_node('a')"
   ]
  },
  {
   "cell_type": "code",
   "execution_count": 17,
   "id": "854ab37d-8fd9-42cc-9294-10386d2bcf1d",
   "metadata": {},
   "outputs": [
    {
     "data": {
      "text/plain": [
       "False"
      ]
     },
     "execution_count": 17,
     "metadata": {},
     "output_type": "execute_result"
    }
   ],
   "source": [
    "G.has_node('x')"
   ]
  },
  {
   "cell_type": "markdown",
   "id": "6621966e-4bc9-4b5c-94d7-214bb148ca53",
   "metadata": {},
   "source": [
    "さらに、上で使用した繰り返し構文（ `for n in G.nodes` ）でも、グラフに特定のノードがあるか確認することができる。"
   ]
  },
  {
   "cell_type": "code",
   "execution_count": 18,
   "id": "92cd8117-3f57-4fac-b14b-e1be2f2d80a4",
   "metadata": {},
   "outputs": [
    {
     "data": {
      "text/plain": [
       "True"
      ]
     },
     "execution_count": 18,
     "metadata": {},
     "output_type": "execute_result"
    }
   ],
   "source": [
    "'d' in G.nodes"
   ]
  },
  {
   "cell_type": "markdown",
   "id": "0903563b-419e-44c4-810f-b8cd37666ed4",
   "metadata": {},
   "source": [
    "同様にして、特定の2つのノードがエッジで繋がっているかを確認できる。"
   ]
  },
  {
   "cell_type": "code",
   "execution_count": 19,
   "id": "9095859c-deb9-47ee-b85a-5403b8b79e36",
   "metadata": {},
   "outputs": [
    {
     "data": {
      "text/plain": [
       "True"
      ]
     },
     "execution_count": 19,
     "metadata": {},
     "output_type": "execute_result"
    }
   ],
   "source": [
    "G.has_edge('a', 'b')"
   ]
  },
  {
   "cell_type": "code",
   "execution_count": 20,
   "id": "a85e562a-a40c-4236-b921-3c636494b299",
   "metadata": {},
   "outputs": [
    {
     "data": {
      "text/plain": [
       "False"
      ]
     },
     "execution_count": 20,
     "metadata": {},
     "output_type": "execute_result"
    }
   ],
   "source": [
    "G.has_edge('a', 'd')"
   ]
  },
  {
   "cell_type": "code",
   "execution_count": 21,
   "id": "60ec2d40-f445-42cd-925d-37f8aa0eebfc",
   "metadata": {},
   "outputs": [
    {
     "data": {
      "text/plain": [
       "True"
      ]
     },
     "execution_count": 21,
     "metadata": {},
     "output_type": "execute_result"
    }
   ],
   "source": [
    "('c', 'd') in G.edges"
   ]
  },
  {
   "cell_type": "markdown",
   "id": "1a093175-ec87-4078-9899-9763507362f5",
   "metadata": {},
   "source": [
    "## ノードの次数\n",
    "\n",
    "グラフ上の任意のノードに対して問うことのできる重要な問題の一つは、それが何個の他のノードと繋がっているかである。上で使用した `.neighbors()` メソッドを使えば、この問題を次のように定式化できる。"
   ]
  },
  {
   "cell_type": "code",
   "execution_count": 22,
   "id": "1e18bcf4-276e-408e-8876-8bceaa4f8f39",
   "metadata": {},
   "outputs": [
    {
     "data": {
      "text/plain": [
       "2"
      ]
     },
     "execution_count": 22,
     "metadata": {},
     "output_type": "execute_result"
    }
   ],
   "source": [
    "len(list(G.neighbors('a')))"
   ]
  },
  {
   "cell_type": "markdown",
   "id": "c74adb3e-2213-4f2c-8080-3dc24aa8253a",
   "metadata": {},
   "source": [
    "しかし、次数を問うことはよく実行される処理なので、NetworkX はこれをより明確な形で行えるようグラフメソッドを用意している。"
   ]
  },
  {
   "cell_type": "code",
   "execution_count": 23,
   "id": "b2c62424-239b-40a1-8d89-0f0eeda55668",
   "metadata": {},
   "outputs": [
    {
     "data": {
      "text/plain": [
       "2"
      ]
     },
     "execution_count": 23,
     "metadata": {},
     "output_type": "execute_result"
    }
   ],
   "source": [
    "G.degree('a')"
   ]
  },
  {
   "cell_type": "markdown",
   "id": "f9ed9050-0bc0-416c-87ac-7bc68bca79e0",
   "metadata": {},
   "source": [
    "## 練習問題 1\n",
    "\n",
    "木構造において、次数が1のノードはしばしば *leaf* と呼ばれる。引数にグラフを取りノードに対して繰り返し処理を行って次数が1のノードのリストを返す関数 `get_leaves()` を書け。"
   ]
  },
  {
   "cell_type": "code",
   "execution_count": 24,
   "id": "1c9e77d8-17ea-461e-8687-26027c67c00b",
   "metadata": {},
   "outputs": [],
   "source": [
    "def get_leaves(G):\n",
    "    ls = []\n",
    "    for n in G.nodes:\n",
    "        if G.degree(n) == 1:\n",
    "            ls.append(n)\n",
    "    \n",
    "    return ls"
   ]
  },
  {
   "cell_type": "code",
   "execution_count": 25,
   "id": "d886f4e8-449d-4c5d-894e-a665b61c8f26",
   "metadata": {},
   "outputs": [],
   "source": [
    "G = nx.Graph()\n",
    "G.add_edges_from([\n",
    "        ('a', 'b'),\n",
    "        ('a', 'd'),\n",
    "        ('c', 'd'),\n",
    "    ])\n",
    "assert set(get_leaves(G)) == {'c', 'b'}"
   ]
  },
  {
   "cell_type": "markdown",
   "id": "de1b2b09-8813-46a8-8701-de5bf87f8593",
   "metadata": {
    "tags": []
   },
   "source": [
    "## 補足：内包表記\n",
    "\n",
    "しばしば、一続きの値からその各要素に対してある操作を行って新しい一続きの値を生成したいときがある。リストの内包表記とジェネレータ式は、これを行うためのコンパクトな方法である。\n",
    "\n",
    "リストの内包表記は角括弧 `[]` の中で記述され、即座に処理が実行されたリストを生成する。"
   ]
  },
  {
   "cell_type": "code",
   "execution_count": 26,
   "id": "fdbaaffa-2b27-448e-8a21-09062e46e02d",
   "metadata": {},
   "outputs": [
    {
     "data": {
      "text/plain": [
       "['SPIDER', 'Y', 'BANANA']"
      ]
     },
     "execution_count": 26,
     "metadata": {},
     "output_type": "execute_result"
    }
   ],
   "source": [
    "items = ['spider', 'y', 'banana']\n",
    "\n",
    "[item.upper() for item in items]"
   ]
  },
  {
   "cell_type": "markdown",
   "id": "05578903-e037-4ffd-aa2c-12135560bfe0",
   "metadata": {
    "tags": []
   },
   "source": [
    "NetworkX の文脈では、内包表記はノードやエッジのリストに対してよく使用される。"
   ]
  },
  {
   "cell_type": "code",
   "execution_count": 27,
   "id": "8e3f7e43-f1cb-4286-9088-d2ac08a31c17",
   "metadata": {},
   "outputs": [
    {
     "name": "stdout",
     "output_type": "stream",
     "text": [
      "['a', 'b', 'd', 'c']\n",
      "[2, 1, 2, 1]\n"
     ]
    }
   ],
   "source": [
    "print(G.nodes())\n",
    "print([G.degree(n) for n in G.nodes()])"
   ]
  },
  {
   "attachments": {},
   "cell_type": "markdown",
   "id": "c35fb393-0afa-43b6-8c19-e6d20a874a0b",
   "metadata": {},
   "source": [
    "ジェネレータ式は、[遅延評価](https://en.wikipedia.org/wiki/Lazy_evaluation)されるため少し異なる。ジェネレータ式は丸括弧 `()` を使って指定する。もし関数の引数として表現するのであれば、丸括弧なしで指定することができる。これらは `max` 関数のようなアグリゲーションの文脈で最もよく使用される。"
   ]
  },
  {
   "cell_type": "code",
   "execution_count": 28,
   "id": "c258fc68-a3ff-4edc-9c5b-96da709010b3",
   "metadata": {},
   "outputs": [
    {
     "data": {
      "text/plain": [
       "[6, 1, 6]"
      ]
     },
     "execution_count": 28,
     "metadata": {},
     "output_type": "execute_result"
    }
   ],
   "source": [
    "g = (len(item) for item in items)\n",
    "list(g)"
   ]
  },
  {
   "cell_type": "code",
   "execution_count": 29,
   "id": "79e3a6ce-b5d4-4393-9b38-589db1712045",
   "metadata": {},
   "outputs": [
    {
     "data": {
      "text/plain": [
       "6"
      ]
     },
     "execution_count": 29,
     "metadata": {},
     "output_type": "execute_result"
    }
   ],
   "source": [
    "max(len(item) for item in items)"
   ]
  },
  {
   "cell_type": "code",
   "execution_count": 30,
   "id": "2e184c6a-1427-41cb-b1bc-fdec623b21a7",
   "metadata": {},
   "outputs": [
    {
     "data": {
      "text/plain": [
       "['BANANA', 'SPIDER', 'Y']"
      ]
     },
     "execution_count": 30,
     "metadata": {},
     "output_type": "execute_result"
    }
   ],
   "source": [
    "sorted(item.upper() for item in items)"
   ]
  },
  {
   "cell_type": "markdown",
   "id": "86e8a35b-054f-4eba-86c9-5db800b501a2",
   "metadata": {},
   "source": [
    "## ノードの名前付け\n",
    "\n",
    "ノード名は1文字である必要はなく、文字列、整数、イミュータブルなオブジェクトのいずれでもよく、データ型も混在できる。以下の例では、文字列と整数を名前に使っている。"
   ]
  },
  {
   "cell_type": "code",
   "execution_count": 31,
   "id": "3fe10639-fddc-4585-ae2b-389df6de2452",
   "metadata": {},
   "outputs": [
    {
     "data": {
      "image/png": "[encoded data removed]",
      "text/plain": [
       "<Figure size 432x288 with 1 Axes>"
      ]
     },
     "metadata": {},
     "output_type": "display_data"
    }
   ],
   "source": [
    "G = nx.Graph()\n",
    "\n",
    "G.add_nodes_from(['cat','dog','virus',13])\n",
    "\n",
    "G.add_edge('cat','dog')\n",
    "\n",
    "nx.draw(G, with_labels=True, font_color='white', node_size=1000)"
   ]
  },
  {
   "cell_type": "markdown",
   "id": "f270d430-2d00-4b1f-8292-df9eebef2902",
   "metadata": {},
   "source": [
    "## 隣接リスト\n",
    "\n",
    "グラフをコンパクトに表現する方法のひとつに隣接リストがある。これは、有向・無向を問わず、重みのないグラフに最も有効である。隣接リストでは、各行がいくつかのノード名を含んでいる。最初のノード名が「ソース」で、その行の他の各ノード名が「ターゲット」である。たとえば、次のような隣接リストがあるとする。\n",
    "```\n",
    "a d e\n",
    "b c\n",
    "c\n",
    "d\n",
    "e\n",
    "```\n",
    "このとき、エッジは以下のようになる。\n",
    "```\n",
    "(a, d)\n",
    "(a, e)\n",
    "(b, c)\n",
    "```\n",
    "隣接リストの独自の線上にノードが存在するのは、孤立ノードを確実に含むためである。グラフが無向であれば、各エッジにつき1つの方向を指定するだけでよいことに注意されたい。重要なのは、グラフが有向か無向かはファイル自体に書かれていないことが多いので、それを推測しなければならないことだ。これは、この形式の限界の一つである。\n",
    "\n",
    "`datasets` ディレクトリの中に、 `friends.adjlist` というファイルがある。ただのテキストファイルなので、パソコンでもGitHubでも開くことができるが、ここでその中身を確認する。"
   ]
  },
  {
   "cell_type": "code",
   "execution_count": 33,
   "id": "1d33e9d1-3aa5-4533-864a-52de5cd8c7d1",
   "metadata": {},
   "outputs": [
    {
     "name": "stdout",
     "output_type": "stream",
     "text": [
      "George Frank Dennis\n",
      "Dennis Claire Esther\n",
      "Claire Frank Alice Esther\n",
      "Bob Alice\n",
      "Frank Alice\n",
      "Alice\n",
      "Esther\n",
      "Shelly\n",
      "\n"
     ]
    }
   ],
   "source": [
    "print(open('../datasets/friends.adjlist').read())"
   ]
  },
  {
   "cell_type": "markdown",
   "id": "4d68fec9-9b44-4560-b4b6-12c928d64f63",
   "metadata": {},
   "source": [
    "NetworkX は隣接リストからグラフを読み取る方法として、`nx.read_adjlist()` を提供している。このグラフを `SG`（social graph）と名づけることにする。"
   ]
  },
  {
   "cell_type": "code",
   "execution_count": 34,
   "id": "e70b64bf-07c3-4402-a425-80d1f8df1555",
   "metadata": {},
   "outputs": [],
   "source": [
    "SG = nx.read_adjlist('../datasets/friends.adjlist')"
   ]
  },
  {
   "cell_type": "markdown",
   "id": "29eb5e21-13bf-435b-9aa3-d04ee6b84833",
   "metadata": {},
   "source": [
    "このグラフを描画すると"
   ]
  },
  {
   "cell_type": "code",
   "execution_count": 35,
   "id": "705b7d78-afee-4788-9d84-aaca9b05d3d2",
   "metadata": {},
   "outputs": [
    {
     "data": {
      "image/png": "[encoded data removed]",
      "text/plain": [
       "<Figure size 432x288 with 1 Axes>"
      ]
     },
     "metadata": {},
     "output_type": "display_data"
    }
   ],
   "source": [
    "nx.draw(SG, node_size=2000, node_color='lightblue', with_labels=True)"
   ]
  },
  {
   "cell_type": "markdown",
   "id": "8908a254-b784-49e1-8778-15ef8344366e",
   "metadata": {},
   "source": [
    "任意のノードに繋がっている友だちの数のような情報を知る方法はすでに学んだ。"
   ]
  },
  {
   "cell_type": "code",
   "execution_count": 36,
   "id": "20cb29a4-e4e5-4852-bdde-eb8603fa0415",
   "metadata": {},
   "outputs": [
    {
     "data": {
      "text/plain": [
       "3"
      ]
     },
     "execution_count": 36,
     "metadata": {},
     "output_type": "execute_result"
    }
   ],
   "source": [
    "SG.degree('Alice')"
   ]
  },
  {
   "cell_type": "markdown",
   "id": "3759ce96-0494-4495-93c9-79d9d230a8e9",
   "metadata": {},
   "source": [
    "## 練習問題2\n",
    "\n",
    "引数にグラフオブジェクトを取り、最大次数を持つノードの名前とその次数をタプル形式で返す関数 `max_degree()` を書け。"
   ]
  },
  {
   "cell_type": "code",
   "execution_count": 53,
   "id": "c465d7a0-c222-45ae-a98d-082798317b30",
   "metadata": {},
   "outputs": [],
   "source": [
    "def max_degree(G):\n",
    "    degree = dict(G.degree())\n",
    "    max_deg = max(list(degree.values()))\n",
    "    return [(k, v)for k, v in degree.items() if v == max_deg][0]"
   ]
  },
  {
   "cell_type": "code",
   "execution_count": 54,
   "id": "ca2fef59-9b9f-4221-91ac-ea2f2f1f0a53",
   "metadata": {},
   "outputs": [],
   "source": [
    "SG = nx.read_adjlist('../datasets/friends.adjlist')\n",
    "assert max_degree(SG) == ('Claire', 4)"
   ]
  },
  {
   "cell_type": "markdown",
   "id": "8faa8b07-25f6-492e-9538-29d48964e8b8",
   "metadata": {
    "tags": []
   },
   "source": [
    "## 練習問題3\n",
    "\n",
    "引数にグラフオブジェクトと2つのノードを取り、与えられた両方のノードにつながっているノードを格納したリスト（ないし集合）を返す関数 `mutual_friends()` を書け。たとえば、上で描画したグラフ `SG` では\n",
    "\n",
    "    mutual_friends(SG, 'Alice', 'Claire') == ['Frank']\n",
    "\n",
    "2つのノードが共通の友人を持たない場合（e.g. `SG` におけるGeorgeとBob）は、空のリストあるいは集合が返り値となる。"
   ]
  },
  {
   "cell_type": "code",
   "execution_count": null,
   "id": "d5f390c5-ad31-4d57-9f2a-c030d7af6d35",
   "metadata": {},
   "outputs": [],
   "source": [
    "def mutual_friends(G, node_1, node_2):\n",
    "    "
   ]
  },
  {
   "cell_type": "code",
   "execution_count": null,
   "id": "bb43d04f-ce5d-4b57-9ea5-ac529d8ff743",
   "metadata": {},
   "outputs": [],
   "source": [
    "SG = nx.read_adjlist('../datasets/friends.adjlist')\n",
    "assert mutual_friends(SG, 'Alice', 'Claire') == ['Frank']\n",
    "assert mutual_friends(SG, 'George', 'Bob') == []\n",
    "assert sorted(mutual_friends(SG, 'Claire', 'George')) == ['Dennis', 'Frank']"
   ]
  },
  {
   "cell_type": "markdown",
   "id": "3e473d8f-42cf-409d-a393-d50c060f127b",
   "metadata": {},
   "source": [
    "## 有向グラフ\n",
    "\n",
    "特に指定がない限り、グラフのエッジは無向――つまり対称的で双方向性をもつ――であるものとする。しかし、捕食者と被食者の関係などは非対称であり、有向グラフとして表現するのが最適である。NetworkX は有向グラフのために `DiGraph` クラスを提供している。"
   ]
  },
  {
   "cell_type": "code",
   "execution_count": null,
   "id": "be4773e3-6edb-4340-bf66-7d74979ddb46",
   "metadata": {},
   "outputs": [],
   "source": [
    "D = nx.DiGraph()\n",
    "\n",
    "D.add_edges_from([(1,2),(2,3),(3,2),(3,4),(3,5),(4,5),(4,6),(5,6),(6,4),(4,2)])\n",
    "\n",
    "nx.draw(D, with_labels=True)"
   ]
  },
  {
   "cell_type": "markdown",
   "id": "bbd2c8bb-f849-48d2-a6e5-b8a2b9c22fde",
   "metadata": {},
   "source": [
    "`has_edge()` のようなエッジを扱うグラフメソッドにおける非対称性に注意しよう。"
   ]
  },
  {
   "cell_type": "code",
   "execution_count": null,
   "id": "4cd6215f-3387-4230-927a-9123ef513058",
   "metadata": {},
   "outputs": [],
   "source": [
    "D.has_edge(1,2)"
   ]
  },
  {
   "cell_type": "code",
   "execution_count": null,
   "id": "0450976b-b620-4d92-b641-3ac7c9cced9c",
   "metadata": {},
   "outputs": [],
   "source": [
    "D.has_edge(2,1)"
   ]
  },
  {
   "cell_type": "markdown",
   "id": "d1d4f66f-c5cd-4743-837d-03c0aa5d4142",
   "metadata": {},
   "source": [
    "無向グラフで対称的な関係を示す\"neighbors\"の代わりに、有向グラフのノードは `predecessors` （ノードに入ってくるneighbors）と `succcessors` （ノードから出ていくneighbors）をもつ。"
   ]
  },
  {
   "cell_type": "code",
   "execution_count": null,
   "id": "0a918270-06e1-4c07-9d51-b131988fc9c9",
   "metadata": {},
   "outputs": [],
   "source": [
    "print('Successors of 2:', list(D.successors(2)))\n",
    "\n",
    "print('Predecessors of 2:', list(D.predecessors(2)))"
   ]
  },
  {
   "cell_type": "markdown",
   "id": "82a439dd-d2f4-4ba7-88ee-7e18fbd6131c",
   "metadata": {},
   "source": [
    "有向グラフは入次数（in-degree）と出次数（out-degree）をもち、それぞれ注目するノードに入ってくるエッジ数と出ていくエッジ数に対応している。"
   ]
  },
  {
   "cell_type": "code",
   "execution_count": null,
   "id": "15f24e04-1453-4743-b4fe-47c390cfe012",
   "metadata": {},
   "outputs": [],
   "source": [
    "D.in_degree(2)"
   ]
  },
  {
   "cell_type": "code",
   "execution_count": null,
   "id": "9bad9670-004d-4567-8742-801ce02aa068",
   "metadata": {},
   "outputs": [],
   "source": [
    "D.out_degree(2)"
   ]
  },
  {
   "cell_type": "markdown",
   "id": "6ffebafd-e95d-4502-a22c-fccd9af0ab0f",
   "metadata": {},
   "source": [
    "## 注意事項\n",
    "\n",
    "NetworkX 2 以降、有向グラフの `.degree()` メソッドは、入次数と出次数の合計の次数を与える。しかし、少し紛らわしい命名法だが、 `neighbors` メソッドは `successors` と同義で、注目するノードから出ていくエッジのみを与える。これは、 `neighbors` が与えられたノードからリンクをたどって到達できるすべてのノードであると考えれば理解できるが、この紛らわしさのせいで本当は `predecessors` と `successors` の両方が欲しいのに、コードに `.neighbors()` と書いてしまうミスが生じやすくなっている。"
   ]
  },
  {
   "cell_type": "code",
   "execution_count": null,
   "id": "81568ea7-f7fd-4353-bbfd-c3f3e4dded4e",
   "metadata": {},
   "outputs": [],
   "source": [
    "D.degree(2)"
   ]
  },
  {
   "cell_type": "code",
   "execution_count": null,
   "id": "72aae793-5332-45c4-84e6-3f9cf81fc094",
   "metadata": {},
   "outputs": [],
   "source": [
    "print('Successors of 2:', list(D.successors(2)))\n",
    "print('\"Neighbors\" of 2:', list(D.neighbors(2)))"
   ]
  }
 ],
 "metadata": {
  "kernelspec": {
   "display_name": "Python 3",
   "language": "python",
   "name": "python3"
  },
  "language_info": {
   "codemirror_mode": {
    "name": "ipython",
    "version": 3
   },
   "file_extension": ".py",
   "mimetype": "text/x-python",
   "name": "python",
   "nbconvert_exporter": "python",
   "pygments_lexer": "ipython3",
   "version": "3.10.0"
  },
  "vscode": {
   "interpreter": {
    "hash": "8170324f39a525290f047deae281b9cce632769f00aa400e510a21f0b68fbeea"
   }
  }
 },
 "nbformat": 4,
 "nbformat_minor": 5
}
